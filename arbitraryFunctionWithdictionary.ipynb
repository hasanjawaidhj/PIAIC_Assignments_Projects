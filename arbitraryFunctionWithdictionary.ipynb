{
 "cells": [
  {
   "cell_type": "code",
   "execution_count": 7,
   "metadata": {},
   "outputs": [],
   "source": [
    "# defining function with dictionary\n",
    "def user_info(name,**detail):\n",
    "    users = {}\n",
    "    details = {}\n",
    "    users['name'] = name\n",
    "    for k,v in detail.items():\n",
    "        details[k]=v\n",
    "    users['details'] = details\n",
    "    for pk,pv in users.items():\n",
    "        if pk == 'name':\n",
    "            print('User name is: '+pv)\n",
    "        else:\n",
    "            for dk,dv in pv.items():\n",
    "                print(dk.title()+' = '+dv.title())"
   ]
  },
  {
   "cell_type": "code",
   "execution_count": 8,
   "metadata": {},
   "outputs": [
    {
     "name": "stdout",
     "output_type": "stream",
     "text": [
      "User name is: hasan\n",
      "Location = Khi\n",
      "Unit = Tech\n"
     ]
    }
   ],
   "source": [
    "user_info('hasan',location='khi',unit='tech')"
   ]
  },
  {
   "cell_type": "code",
   "execution_count": null,
   "metadata": {},
   "outputs": [],
   "source": []
  }
 ],
 "metadata": {
  "kernelspec": {
   "display_name": "Python 3",
   "language": "python",
   "name": "python3"
  },
  "language_info": {
   "codemirror_mode": {
    "name": "ipython",
    "version": 3
   },
   "file_extension": ".py",
   "mimetype": "text/x-python",
   "name": "python",
   "nbconvert_exporter": "python",
   "pygments_lexer": "ipython3",
   "version": "3.7.3"
  }
 },
 "nbformat": 4,
 "nbformat_minor": 2
}
