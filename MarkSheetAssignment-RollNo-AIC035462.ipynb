{
 "cells": [
  {
   "cell_type": "code",
   "execution_count": 22,
   "metadata": {},
   "outputs": [
    {
     "name": "stdout",
     "output_type": "stream",
     "text": [
      "please enter English subject marks: 34\n",
      "please enter Urdu subject marks: 55\n",
      "please enter Maths subject marks: 99\n",
      "\n",
      "Marks Sheet\n",
      "English : 34\n",
      "Urdu    : 55\n",
      "Maths   : 99\n",
      "Total marks obtained: 188 out of 300\n",
      "Securing percentage at: 62%\n",
      "Grade: B\n"
     ]
    }
   ],
   "source": [
    "#Marks Sheet Assignment Using List Tuple & If Statement (Nested)\n",
    "import math\n",
    "subjects = ('eNGlish','urdu','mathS')\n",
    "marks = []\n",
    "#Take input from user according to subject define in tuple\n",
    "askMarks = int(input(\"please enter \"+subjects[0].title()+\" subject marks: \"))\n",
    "if askMarks > 100:\n",
    "    print(\"Invalid marks input. Must be less than 100\")\n",
    "else:    \n",
    "    marks.append(askMarks)\n",
    "    askMarks = int(input(\"please enter \"+subjects[1].title()+\" subject marks: \"))\n",
    "    if askMarks > 100:\n",
    "        print(\"Invalid marks input. Must be less than 100\")\n",
    "    else:\n",
    "        marks.append(askMarks)\n",
    "        askMarks = int(input(\"please enter \"+subjects[2].title()+\" subject marks: \"))\n",
    "        if askMarks > 100:\n",
    "            print(\"Invalid marks input. Must be less than 100\")\n",
    "        else:\n",
    "            marks.append(askMarks)\n",
    "            print('\\n'+\"Marks Sheet\")\n",
    "            print(subjects[0].title()+\" : \"+str(marks[0]))\n",
    "            print(subjects[1].title()+\"    : \"+str(marks[1]))\n",
    "            print(subjects[2].title()+\"   : \"+str(marks[2]))\n",
    "            totalMarks = sum(marks)  # Using Sum function for the total of all numbers in the marks list\n",
    "            percentage = math.floor((totalMarks / 300) * 100)\n",
    "            print(\"Total marks obtained: \"+str(totalMarks)+\" out of 300\")\n",
    "            print(\"Securing percentage at: \"+str(percentage)+\"%\")\n",
    "            if percentage >=80:\n",
    "                print(\"Grade: A+\")\n",
    "            elif percentage >=70:\n",
    "                print(\"Grade: A\")\n",
    "            elif percentage >=60:\n",
    "                print(\"Grade: B\")\n",
    "            elif percentage >=50:\n",
    "                print(\"Grade: C\")\n",
    "            elif percentage >=40:\n",
    "                print(\"Grade: D\")\n",
    "            else:\n",
    "                print(\"Fail\")"
   ]
  },
  {
   "cell_type": "code",
   "execution_count": null,
   "metadata": {},
   "outputs": [],
   "source": []
  }
 ],
 "metadata": {
  "kernelspec": {
   "display_name": "Python 3",
   "language": "python",
   "name": "python3"
  },
  "language_info": {
   "codemirror_mode": {
    "name": "ipython",
    "version": 3
   },
   "file_extension": ".py",
   "mimetype": "text/x-python",
   "name": "python",
   "nbconvert_exporter": "python",
   "pygments_lexer": "ipython3",
   "version": "3.7.3"
  }
 },
 "nbformat": 4,
 "nbformat_minor": 2
}
