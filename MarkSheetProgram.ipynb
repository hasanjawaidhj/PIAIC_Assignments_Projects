{
 "cells": [
  {
   "cell_type": "code",
   "execution_count": 24,
   "metadata": {},
   "outputs": [
    {
     "name": "stdout",
     "output_type": "stream",
     "text": [
      "Marksheet Program\n",
      "\n",
      "Student Name: hasan\n",
      "Father Name: JAWAID\n",
      "Class: 4-D\n",
      "\n",
      "\n",
      "English  Obtained Marks out of 100: 16\n",
      "Urdu Obtained Marks out of 100: 18\n",
      "Science Obtained Marks out of 100: 20\n",
      "Student Name: Hasan\n",
      "Father Name: Jawaid\n",
      "Class: 4-D\n",
      "English  /100 = 16\n",
      "Urdu /100 = 18\n",
      "Science /100 = 20\n",
      "Total Marks Obtained: 54/300\n",
      "Percentage: 18.0\n",
      "Fail\n"
     ]
    }
   ],
   "source": [
    "print(\"Marksheet Program\\n\")\n",
    "ask=['Student Name: ','Father Name: ','Class: ']\n",
    "ans=[]\n",
    "for bio in range(0,len(ask)):\n",
    "    val = input(ask[bio])\n",
    "    ans.append(val.title())\n",
    "print(\"\\n\")    \n",
    "subjects=['English ','Urdu','Science']    \n",
    "marks=[]\n",
    "for score in range(0,len(subjects)):\n",
    "    res=int(input(subjects[score].title()+\" Obtained Marks out of 100: \"))\n",
    "    marks.append(res)\n",
    "\n",
    "\n",
    "for printing in range(0,len(ask)):\n",
    "    print(ask[printing]+ans[printing])\n",
    "    \n",
    "error=0\n",
    "errSub=''\n",
    "totalMarks=0\n",
    "percentage=0\n",
    "for printmarks in range(0,len(subjects)):\n",
    "    if marks[printmarks] >0 and marks[printmarks] <=100:\n",
    "        totalMarks=totalMarks+marks[printmarks]\n",
    "        print(subjects[printmarks]+\" /100 = \"+str(marks[printmarks]))\n",
    "    else:\n",
    "        error=1\n",
    "        errSub=subjects[printmarks]\n",
    "        print('Invalid marks '+str(marks[printmarks])+' given for the subject '+subjects[printmarks])\n",
    "if error==1:\n",
    "    print(\"Please re-enter the marks for the \"+errSub.strip()+\" subject\")\n",
    "else:\n",
    "    print(\"Total Marks Obtained: \"+str(totalMarks)+\"/300\")\n",
    "    percentage=totalMarks/300 * 100\n",
    "    print(\"Percentage: \"+str(percentage))\n",
    "    if percentage >=80 and percentage <=100:\n",
    "        print(\"Grade: A+\")\n",
    "    elif percentage >=70 and percentage <=79:\n",
    "        print(\"Grade: A\")\n",
    "    elif percentage >=60 and percentage <=69:\n",
    "        print(\"Grade: B\")\n",
    "    elif percentage >=50 and percentage <=59:\n",
    "        print(\"Grade: C\")\n",
    "    elif percentage >=40 and percentage <=49:\n",
    "        print(\"Grade: D\")\n",
    "    else:\n",
    "        print(\"Fail\")"
   ]
  },
  {
   "cell_type": "markdown",
   "metadata": {},
   "source": []
  }
 ],
 "metadata": {
  "kernelspec": {
   "display_name": "Python 3",
   "language": "python",
   "name": "python3"
  },
  "language_info": {
   "codemirror_mode": {
    "name": "ipython",
    "version": 3
   },
   "file_extension": ".py",
   "mimetype": "text/x-python",
   "name": "python",
   "nbconvert_exporter": "python",
   "pygments_lexer": "ipython3",
   "version": "3.7.3"
  }
 },
 "nbformat": 4,
 "nbformat_minor": 2
}
